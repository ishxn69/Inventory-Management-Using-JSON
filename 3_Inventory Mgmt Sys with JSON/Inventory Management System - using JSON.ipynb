{
 "cells": [
  {
   "cell_type": "code",
   "execution_count": 14,
   "id": "90600d15-ad1e-4c6e-aa0a-af38cc5a639a",
   "metadata": {},
   "outputs": [
    {
     "name": "stdout",
     "output_type": "stream",
     "text": [
      "***************MENU***************\n",
      "\n",
      "1001 : 5 Star | 10 | 192\n",
      "1002 : Bar-One | 20 | 99\n",
      "1003 : Candy | 2 | 996\n",
      "1004 : Chocolate Cake | 550 | 6\n",
      "1005 : Blueberry Cake | 650 | 0\n",
      "********************************** \n",
      "\n"
     ]
    },
    {
     "name": "stdin",
     "output_type": "stream",
     "text": [
      "Enter your Name:  Ibrahim\n",
      "Enter your e-mail:  ibra.kazi@gmail.com\n",
      "Enter your Phone Number:  2917281162\n",
      "Enter Product ID       :  1004\n",
      "Enter Product Quantity :  7\n"
     ]
    },
    {
     "name": "stdout",
     "output_type": "stream",
     "text": [
      "Sorry, we are not having enough stock in our inventory.\n",
      "We are only having 6 quantity.\n",
      "**********************************\n"
     ]
    },
    {
     "name": "stdin",
     "output_type": "stream",
     "text": [
      "Press Y/y if you want to purchase the remaining quantity:  y\n"
     ]
    },
    {
     "name": "stdout",
     "output_type": "stream",
     "text": [
      "**********************************\n",
      "               BILL                \n",
      "\n",
      "Name           : Chocolate Cake\n",
      "Price (INR)    : 550 Rs\n",
      "Quantity       : 6\n",
      "**********************************\n",
      "Total: 3300\n",
      "GST @ 18%: 594.0\n",
      "Net Billing Amount : 3894.0 Rs.\n",
      "**********************************\n",
      "**********************************\n",
      "Thank you for shopping with us!\n",
      "**********************************\n"
     ]
    }
   ],
   "source": [
    "import time\n",
    "import json\n",
    "\n",
    "#This is to make sure that if user does not purchase anything,\n",
    "#nothing will be added to Sales.txt\n",
    "sale = ''\n",
    "\n",
    "fd = open('Records.json', 'r')\n",
    "js = fd.read()\n",
    "fd.close()\n",
    "\n",
    "record = json.loads(js)\n",
    "\n",
    "print('*'*15 + \"MENU\" + '*'*15 + \"\\n\")\n",
    "for key in record.keys():\n",
    "    print(key, \":\", record[key]['Name'], \"|\", record[key]['Price'], \"|\", record[key]['Qn'])\n",
    "print('*'*34, \"\\n\")\n",
    "\n",
    "ui_name = str(input(\"Enter your Name: \"))\n",
    "ui_mail = str(input(\"Enter your e-mail: \"))\n",
    "ui_ph = str(input(\"Enter your Phone Number: \"))\n",
    "\n",
    "ui_pr = str(input(\"Enter Product ID       : \"))\n",
    "ui_qn = int(input(\"Enter Product Quantity : \"))\n",
    "\n",
    "#If there is enough stock\n",
    "if record[ui_pr][\"Qn\"] >= ui_qn:\n",
    "    record[ui_pr][\"Qn\"] = record[ui_pr][\"Qn\"] - ui_qn\n",
    "\n",
    "    print('*'*34)\n",
    "    print(' '*15 + 'BILL' + ' '*15, '\\n')\n",
    "    \n",
    "    print(\"Name           :\", record[ui_pr]['Name'])\n",
    "    print(\"Price (INR)    :\", record[ui_pr]['Price'], \"Rs\")\n",
    "    print(\"Quantity       :\", ui_qn)\n",
    "    \n",
    "    print('*'*34)\n",
    "    billing_amt = record[ui_pr]['Price'] * ui_qn\n",
    "\n",
    "    print('Total: ' + str(billing_amt))\n",
    "    if billing_amt > 7000:\n",
    "        billing_amt = 0.8 * billing_amt\n",
    "        #gst\n",
    "        gst = 0.18 * billing_amt\n",
    "        billing_amt += gst\n",
    "        print('GST @ 18%: ' + str(gst))\n",
    "        print('Net Billing Amount : ' + str(billing_amt) + ' Rs.')\n",
    "        print('After 20% discount on purchase over Rs. 7000')\n",
    "    elif billing_amt > 5000:\n",
    "        billing_amt = 0.9 * billing_amt\n",
    "        #gst\n",
    "        gst = 0.18 * billing_amt\n",
    "        billing_amt += gst\n",
    "        print('GST @ 18%: ' + str(gst))\n",
    "        print('Net Billing Amount : ' + str(billing_amt) + ' Rs.')\n",
    "        print('After 20% discount on purchase over Rs. 7000')\n",
    "    else:\n",
    "        #gst\n",
    "        gst = 0.18 * billing_amt\n",
    "        billing_amt += gst\n",
    "        print('GST @ 18%: ' + str(gst))\n",
    "        print('Net Billing Amount : ' + str(billing_amt) + ' Rs.')\n",
    "    print('*'*34)\n",
    "\n",
    "    sale = ui_name + \",\" + ui_mail + \",\" + ui_ph + \",\" + ui_pr + \",\" + record[ui_pr]['Name'] + \\\n",
    "    \",\" + str(ui_qn) + \",\" + str(record[ui_pr][\"Price\"]) + \",\" + str(billing_amt) + \\\n",
    "    \",\" + time.ctime() + '\\n'\n",
    "    \n",
    "else:\n",
    "    print(\"Sorry, we are not having enough stock in our inventory.\")\n",
    "    print(\"We are only having\", record[ui_pr][\"Qn\"], 'quantity.')\n",
    "    print(\"*\"*34)\n",
    "\n",
    "    ch = input(\"Press Y/y if you want to purchase the remaining quantity: \")\n",
    "\n",
    "    if ch == 'Y' or ch == 'y':\n",
    "\n",
    "        print('*'*34)\n",
    "        print(' '*15 + 'BILL' + ' '*15, '\\n')\n",
    "        \n",
    "        print(\"Name           :\", record[ui_pr]['Name'])\n",
    "        print(\"Price (INR)    :\", record[ui_pr]['Price'], \"Rs\")\n",
    "        print(\"Quantity       :\", record[ui_pr]['Qn'])\n",
    "        \n",
    "        print('*'*34)\n",
    "        billing_amt = record[ui_pr]['Price'] * record[ui_pr]['Qn']\n",
    "\n",
    "        print('Total: ' + str(billing_amt))\n",
    "        if billing_amt > 7000:\n",
    "            billing_amt = 0.8 * billing_amt\n",
    "            #gst\n",
    "            gst = 0.18 * billing_amt\n",
    "            billing_amt += gst\n",
    "            print('GST @ 18%: ' + str(gst))\n",
    "            print('Net Billing Amount : ' + str(billing_amt) + ' Rs.')\n",
    "            print('After 20% discount on purchase over Rs. 7000')\n",
    "        elif billing_amt > 5000:\n",
    "            billing_amt = 0.9 * billing_amt\n",
    "            #gst\n",
    "            gst = 0.18 * billing_amt\n",
    "            billing_amt += gst\n",
    "            print('GST @ 18%: ' + str(gst))\n",
    "            print('Net Billing Amount : ' + str(billing_amt) + ' Rs.')\n",
    "            print('After 20% discount on purchase over Rs. 5000')\n",
    "        else:\n",
    "            #gst\n",
    "            gst = 0.18 * billing_amt\n",
    "            billing_amt += gst\n",
    "            print('GST @ 18%: ' + str(gst))\n",
    "            print('Net Billing Amount : ' + str(billing_amt) + ' Rs.')\n",
    "\n",
    "        print('*'*34)\n",
    "\n",
    "        sale = ui_name + \",\" + ui_mail + \",\" + ui_ph + \",\" + ui_pr + \",\" + record[ui_pr]['Name'] + \\\n",
    "        \",\" + str(record[ui_pr]['Qn']) + \",\" + str(record[ui_pr][\"Price\"]) + \",\" + \\\n",
    "        str(billing_amt) + \",\" + time.ctime() + '\\n'\n",
    "        \n",
    "        record[ui_pr]['Qn'] = 0\n",
    "    else:\n",
    "        print(\"Thank you, have a great day!\")\n",
    "\n",
    "js = json.dumps(record)\n",
    "\n",
    "fd = open('Records.json', 'w')\n",
    "fd.write(js)\n",
    "fd.close()\n",
    "\n",
    "fd = open('Sales.csv', 'a')\n",
    "fd.write(sale)\n",
    "fd.close()\n",
    "\n",
    "print('*'*34)\n",
    "print('Thank you for shopping with us!')\n",
    "print('*'*34)"
   ]
  },
  {
   "cell_type": "code",
   "execution_count": 16,
   "id": "c3d1b8f1-cb7b-4217-b535-4ae41f101685",
   "metadata": {},
   "outputs": [
    {
     "data": {
      "text/plain": [
       "'Ibrahim,ibra.kazi@gmail.com,2917281162,1004,Chocolate Cake,6,550,3894.0,Wed Sep 25 20:53:53 2024\\n'"
      ]
     },
     "execution_count": 16,
     "metadata": {},
     "output_type": "execute_result"
    }
   ],
   "source": [
    "sale"
   ]
  },
  {
   "cell_type": "code",
   "execution_count": 46,
   "id": "0a05fce7-51bc-4bae-890c-b97ed30dd84d",
   "metadata": {},
   "outputs": [],
   "source": []
  },
  {
   "cell_type": "code",
   "execution_count": null,
   "id": "c02cc9e4-48eb-4d23-8eae-f7579d1462ca",
   "metadata": {},
   "outputs": [],
   "source": []
  }
 ],
 "metadata": {
  "kernelspec": {
   "display_name": "Python 3 (ipykernel)",
   "language": "python",
   "name": "python3"
  },
  "language_info": {
   "codemirror_mode": {
    "name": "ipython",
    "version": 3
   },
   "file_extension": ".py",
   "mimetype": "text/x-python",
   "name": "python",
   "nbconvert_exporter": "python",
   "pygments_lexer": "ipython3",
   "version": "3.11.7"
  }
 },
 "nbformat": 4,
 "nbformat_minor": 5
}
